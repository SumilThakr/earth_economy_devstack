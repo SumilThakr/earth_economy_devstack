{
 "cells": [
  {
   "cell_type": "markdown",
   "metadata": {},
   "source": [
    "# ProjectFlow Quickstart MAKE CONSISTENT WITH Projectflow.qmd"
   ]
  },
  {
   "cell_type": "code",
   "execution_count": 1,
   "metadata": {},
   "outputs": [],
   "source": [
    "import os\n",
    "import numpy as np\n",
    "from osgeo import gdal\n",
    "\n",
    "import hazelbean as hb\n",
    "\n",
    "# Define the project directory. This is where the ProjectFlow will look for the data and where it will save the outputs.\n",
    "project_dir = 'See next step for the correct value'\n",
    "\n",
    "# Create the ProjectFlow object and build the task tree.\n",
    "p = hb.ProjectFlow(project_dir)  "
   ]
  },
  {
   "cell_type": "markdown",
   "metadata": {},
   "source": [
    "EE Spec denotes that will save data generated as a part of a project in a path relative to your user directory. Below, we modify the example above to give a good directory location"
   ]
  },
  {
   "cell_type": "code",
   "execution_count": 2,
   "metadata": {},
   "outputs": [
    {
     "name": "stdout",
     "output_type": "stream",
     "text": [
      "Hazelbean ProjectFlow object. dict\n",
      "{ 'args': {},\n",
      "  'base_data_dir': None,\n",
      "  'calling_script': 'C:\\\\Users\\\\jajohns\\\\AppData\\\\Local\\\\Temp\\\\ipykernel_15608\\\\830032204.py',\n",
      "  'cur_dir': None,\n",
      "  'cur_task': None,\n",
      "  'external_bulk_data_dir': None,\n",
      "  'input_dir': 'C:\\\\Users\\\\jajohns\\\\Files\\\\example_code\\\\projects\\\\teems_example\\\\input',\n",
      "  'jobs': [],\n",
      "  'logging_level': 20,\n",
      "  'make_run_dir': False,\n",
      "  'model_base_data_dir': 'C:\\\\Users\\\\jajohns\\\\Files\\\\example_code\\\\base_data',\n",
      "  'output_dir': 'C:\\\\Users\\\\jajohns\\\\Files\\\\example_code\\\\projects\\\\teems_example\\\\output',\n",
      "  'prepend': '',\n",
      "  'project_base_data_dir': 'C:\\\\Users\\\\jajohns\\\\Files\\\\example_code\\\\projects\\\\teems_example\\\\base_data',\n",
      "  'project_dir': 'C:\\\\Users\\\\jajohns\\\\Files\\\\example_code\\\\projects\\\\teems_example',\n",
      "  'project_name': 'teems_example',\n",
      "  'registered_dirs': ['.', 'C:\\\\Users\\\\jajohns\\\\Files\\\\example_code\\\\projects\\\\teems_example\\\\input'],\n",
      "  'run_this': None,\n",
      "  'script_dir': 'C:\\\\Users\\\\jajohns\\\\AppData\\\\Local\\\\Temp\\\\ipykernel_15608',\n",
      "  'skip_existing': None,\n",
      "  'task_names_defined': [],\n",
      "  'task_paths': {},\n",
      "  'task_tree': <hazelbean.project_flow.Task object at 0x00000166BD7E5DE0>,\n",
      "  'ui_agnostic_project_dir': 'C:\\\\Users\\\\jajohns\\\\Files\\\\example_code\\\\projects\\\\teems_example'}\n"
     ]
    }
   ],
   "source": [
    "# A ProjectFlow object is created from the Hazelbean library to organize directories and enable parallel processing.\n",
    "# project-level variables are assigned as attributes to the p object (such as in p.base_data_dir = ... below)\n",
    "# The only agrument for a project flow object is where the project directory is relative to the current_working_directory.\n",
    "user_dir = os.path.expanduser('~')       \n",
    "\n",
    "# Define the directories relative to your user dir that will contain this project.    \n",
    "extra_dirs = ['Files', 'example_code', 'projects']\n",
    "\n",
    "# The project_name is used to name the project directory below. Also note that\n",
    "# ProjectFlow only calculates tasks that haven't been done yet, so adding \n",
    "# a new project_name will give a fresh directory and ensure all parts\n",
    "# are run.\n",
    "project_name = 'teems_example'\n",
    "\n",
    "# The project-dir is where everything will be stored, in particular in an input, intermediate, or output dir\n",
    "# IMPORTANT NOTE: This should not be in a cloud-synced directory (e.g. dropbox, google drive, etc.), which\n",
    "# will either make the run fail or cause it to be very slow. The recommended place is (as coded above)\n",
    "# somewhere in the users's home directory.\n",
    "project_dir = os.path.join(user_dir, os.sep.join(extra_dirs), project_name)\n",
    "\n",
    "# Create the ProjectFlow object and build the task tree.\n",
    "p = hb.ProjectFlow(project_dir)   \n",
    "\n",
    "print(p)"
   ]
  },
  {
   "cell_type": "markdown",
   "metadata": {},
   "source": [
    "From here, we now can start to utilize the `p` object. In the simplest configuration, ProjectFlow will create an intermediate directory in which you can save stuff. We can access it as an attribute of the `p` object, as below. It was automatically defined when we created the ProjectFlow object."
   ]
  },
  {
   "cell_type": "code",
   "execution_count": 11,
   "metadata": {},
   "outputs": [
    {
     "name": "stdout",
     "output_type": "stream",
     "text": [
      "The total caloric yield on earth per hectare is: -1336551089.7409828\n"
     ]
    }
   ],
   "source": [
    "yield_per_hectare_raster_path = os.path.join(p.input_dir, 'yield_per_cell.tif')\n",
    "yield_per_hectare_raster = gdal.Open(yield_per_hectare_raster_path)\n",
    "yield_per_hectare_array = yield_per_hectare_raster.ReadAsArray()\n",
    "\n",
    "sum_of_yield = np.sum(yield_per_hectare_array)\n",
    " \n",
    "print('The total caloric yield on earth per hectare is: ' + str(sum_of_yield))\n",
    "\n",
    "# OOPS, this was in KG and your advisor wans it in Tons!\n",
    "\n",
    "tons_per_hectare_array = yield_per_hectare_array / 1000\n",
    "\n",
    "# Set a path to save it to\n",
    "output_path = os.path.join(p.project_dir, 'yield_per_ha.tif')\n",
    "\n",
    "# incompete for now, because we will talk about using the save_array() function in a subsequent step."
   ]
  },
  {
   "cell_type": "markdown",
   "metadata": {},
   "source": [
    "\n",
    "\n",
    "NOT FINISHED FROM HERE AND BELOW.\n",
    "In a multi-file setup, in the run.py you will need to import different scripts, such as main.py i.e.:\n",
    "\n"
   ]
  },
  {
   "cell_type": "code",
   "execution_count": null,
   "metadata": {},
   "outputs": [],
   "source": [
    "\n",
    "#| eval: false\n",
    "import visualizations.main\n"
   ]
  },
  {
   "cell_type": "markdown",
   "metadata": {},
   "source": [
    "\n",
    "\n",
    "The script file mainpy can have whatever code, but in particular can include \"task\" functions. A task function, shown below, takes only p as an agrument and returns p (potentially modified). It also must have a conditional (if p.run_this:) to specify what always runs (and is assumed to run trivially fast, i.e., to specify file paths) just by nature of having it in the task tree and what is run only conditionally (based on the task.run attribute, or optionally based on satisfying a completed function.)\n",
    "\n"
   ]
  },
  {
   "cell_type": "code",
   "execution_count": null,
   "metadata": {},
   "outputs": [],
   "source": [
    "#| eval: false\n",
    "def example_task_function(p):\n",
    "    \"\"\"Fast function that creates several tiny geotiffs of gaussian-like kernels for later use in ffn_convolve.\"\"\"\n",
    "\n",
    "    if p.run_this:\n",
    "        for i in computationally_intensive_loop:\n",
    "            print(i)\n"
   ]
  },
  {
   "cell_type": "markdown",
   "metadata": {},
   "source": [
    "\n",
    "\n",
    "**Important Non-Obvious Note**\n",
    "\n",
    "Importing the script will define function(s) to add \"tasks\", which take the ProjectFlow object as an argument and returns it after potential modification.\n",
    "\n"
   ]
  },
  {
   "cell_type": "code",
   "execution_count": null,
   "metadata": {},
   "outputs": [],
   "source": [
    "def add_all_tasks_to_task_tree(p):\n",
    "    p.generated_kernels_task = p.add_task(example_task_function)"
   ]
  },
  {
   "cell_type": "code",
   "execution_count": null,
   "metadata": {},
   "outputs": [],
   "source": [
    "\n",
    "def example_task_function(p):\n",
    "    \"\"\"Fast function that creates several tiny geotiffs of gaussian-like kernels for later use in ffn_convolve.\"\"\"\n",
    "\n",
    "    if p.run_this:\n",
    "        for i in computationally_intensive_loop:\n",
    "            print(i)\n",
    "\n",
    "def add_all_tasks_to_task_tree(p):\n",
    "    p.generated_kernels_task = p.add_task(example_task_function)\n",
    "\n"
   ]
  },
  {
   "cell_type": "code",
   "execution_count": null,
   "metadata": {},
   "outputs": [],
   "source": [
    "\n",
    "def example_task_function(p):\n",
    "    \"\"\"Fast function that creates several tiny geotiffs of gaussian-like kernels for later use in ffn_convolve.\"\"\"\n",
    "\n",
    "    if p.run_this:\n",
    "        for i in computationally_intensive_loop:\n",
    "            print(i)\n"
   ]
  }
 ],
 "metadata": {
  "kernelspec": {
   "display_name": "env2023a",
   "language": "python",
   "name": "python3"
  },
  "language_info": {
   "codemirror_mode": {
    "name": "ipython",
    "version": 3
   },
   "file_extension": ".py",
   "mimetype": "text/x-python",
   "name": "python",
   "nbconvert_exporter": "python",
   "pygments_lexer": "ipython3",
   "version": "3.10.10"
  }
 },
 "nbformat": 4,
 "nbformat_minor": 2
}
